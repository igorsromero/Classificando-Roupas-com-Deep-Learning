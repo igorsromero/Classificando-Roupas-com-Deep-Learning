{
  "nbformat": 4,
  "nbformat_minor": 0,
  "metadata": {
    "colab": {
      "name": "classificacao_roupas.ipynb",
      "provenance": [],
      "collapsed_sections": [],
      "authorship_tag": "ABX9TyOHaep1La/nWOELyxxOMcRV",
      "include_colab_link": true
    },
    "kernelspec": {
      "name": "python3",
      "display_name": "Python 3"
    },
    "language_info": {
      "name": "python"
    }
  },
  "cells": [
    {
      "cell_type": "markdown",
      "metadata": {
        "id": "view-in-github",
        "colab_type": "text"
      },
      "source": [
        "<a href=\"https://colab.research.google.com/github/igorsromero/Classificando-Roupas-com-Deep-Learning/blob/main/classificacao_roupas.ipynb\" target=\"_parent\"><img src=\"https://colab.research.google.com/assets/colab-badge.svg\" alt=\"Open In Colab\"/></a>"
      ]
    },
    {
      "cell_type": "markdown",
      "metadata": {
        "id": "9xG3qKl-t4IC"
      },
      "source": [
        "Imports\n"
      ]
    },
    {
      "cell_type": "code",
      "metadata": {
        "id": "_nt5WVvWtu-s"
      },
      "source": [
        "import tensorflow\n",
        "from tensorflow import keras\n",
        "import matplotlib.pyplot as plt\n",
        "import numpy as np\n",
        "from tensorflow.keras.models import load_model"
      ],
      "execution_count": 4,
      "outputs": []
    },
    {
      "cell_type": "markdown",
      "metadata": {
        "id": "sLxkkRkLt8oB"
      },
      "source": [
        "Carregando o dataset"
      ]
    },
    {
      "cell_type": "code",
      "metadata": {
        "id": "0CcDQ9bqtyrd",
        "colab": {
          "base_uri": "https://localhost:8080/"
        },
        "outputId": "914bb07e-a6ec-4f25-9898-54eff1e98838"
      },
      "source": [
        "dataset = keras.datasets.fashion_mnist\n",
        "((imagens_treino, identificacoes_treino),(imagens_teste, identificacoes_teste))  = dataset.load_data()"
      ],
      "execution_count": 5,
      "outputs": [
        {
          "output_type": "stream",
          "text": [
            "Downloading data from https://storage.googleapis.com/tensorflow/tf-keras-datasets/train-labels-idx1-ubyte.gz\n",
            "32768/29515 [=================================] - 0s 0us/step\n",
            "Downloading data from https://storage.googleapis.com/tensorflow/tf-keras-datasets/train-images-idx3-ubyte.gz\n",
            "26427392/26421880 [==============================] - 0s 0us/step\n",
            "Downloading data from https://storage.googleapis.com/tensorflow/tf-keras-datasets/t10k-labels-idx1-ubyte.gz\n",
            "8192/5148 [===============================================] - 0s 0us/step\n",
            "Downloading data from https://storage.googleapis.com/tensorflow/tf-keras-datasets/t10k-images-idx3-ubyte.gz\n",
            "4423680/4422102 [==============================] - 0s 0us/step\n"
          ],
          "name": "stdout"
        }
      ]
    },
    {
      "cell_type": "markdown",
      "metadata": {
        "id": "ik4gOUxQt_y0"
      },
      "source": [
        "Explorando os dados"
      ]
    },
    {
      "cell_type": "code",
      "metadata": {
        "id": "d5WxZxxDt1K4"
      },
      "source": [
        "len(imagens_treino)\n",
        "imagens_treino.shape\n",
        "imagens_teste.shape\n",
        "len(identificacoes_teste)\n",
        "identificacoes_treino.min()\n",
        "identificacoes_treino.max()"
      ],
      "execution_count": null,
      "outputs": []
    },
    {
      "cell_type": "markdown",
      "metadata": {
        "id": "frrJ0WeMuEET"
      },
      "source": [
        "Exibindo os dados"
      ]
    },
    {
      "cell_type": "code",
      "metadata": {
        "id": "T-nncWF-pZve"
      },
      "source": [
        "total_de_classificacoes = 10\n",
        "nomes_de_classificacoes = ['Camiseta', 'Calça', 'Pullover', 'Vestido', \n",
        "                           'Casaco', 'Sandália', 'Camisa', 'Tênis', \n",
        "                           'Bolsa', 'Bota']\n",
        "'''\n",
        "plt.imshow(imagens_treino[0])\n",
        "plt.title(identificacoes_treino[0])\n",
        "for imagem in range(10):\n",
        "  plt.subplot(2, 5, imagem+1)\n",
        "  plt.imshow(imagens_treino[imagem])\n",
        "  plt.title(nomes_de_classificacoes[identificacoes_treino[imagem]])\n",
        "'''\n",
        "plt.imshow(imagens_treino[0])\n",
        "plt.colorbar()"
      ],
      "execution_count": null,
      "outputs": []
    },
    {
      "cell_type": "markdown",
      "metadata": {
        "id": "RN-skHvuE9sp"
      },
      "source": [
        "Normalizando as Imagens\n"
      ]
    },
    {
      "cell_type": "code",
      "metadata": {
        "id": "euhSd-F01Qpn"
      },
      "source": [
        "imagens_treino = imagens_treino/float(255)\n",
        "imagens_teste = imagens_teste/float(255)"
      ],
      "execution_count": 6,
      "outputs": []
    },
    {
      "cell_type": "markdown",
      "metadata": {
        "id": "ohscpdDNFH-q"
      },
      "source": [
        "Criando, compilando e treinando o modelo"
      ]
    },
    {
      "cell_type": "code",
      "metadata": {
        "id": "KZP4HjtsFEha",
        "colab": {
          "base_uri": "https://localhost:8080/"
        },
        "outputId": "22310717-33c9-48b9-9ee9-df6896b8c508"
      },
      "source": [
        "modelo = keras.Sequential([\n",
        "    keras.layers.Flatten(input_shape=(28,28)),\n",
        "    keras.layers.Dense(256, activation=tensorflow.nn.relu),\n",
        "    #keras.layers.Dropout(0.2),\n",
        "    keras.layers.Dense(10, activation=tensorflow.nn.softmax)\n",
        "])\n",
        "\n",
        "modelo.compile(optimizer='adam', \n",
        "               loss='sparse_categorical_crossentropy',\n",
        "               metrics=['accuracy'])\n",
        "\n",
        "historico = modelo.fit(imagens_treino, identificacoes_treino, epochs=6, validation_split=0.2)"
      ],
      "execution_count": 7,
      "outputs": [
        {
          "output_type": "stream",
          "text": [
            "Epoch 1/6\n",
            "1500/1500 [==============================] - 7s 4ms/step - loss: 0.6246 - accuracy: 0.7804 - val_loss: 0.4335 - val_accuracy: 0.8468\n",
            "Epoch 2/6\n",
            "1500/1500 [==============================] - 6s 4ms/step - loss: 0.3867 - accuracy: 0.8606 - val_loss: 0.3761 - val_accuracy: 0.8653\n",
            "Epoch 3/6\n",
            "1500/1500 [==============================] - 6s 4ms/step - loss: 0.3417 - accuracy: 0.8758 - val_loss: 0.3645 - val_accuracy: 0.8661\n",
            "Epoch 4/6\n",
            "1500/1500 [==============================] - 6s 4ms/step - loss: 0.3116 - accuracy: 0.8852 - val_loss: 0.3412 - val_accuracy: 0.8751\n",
            "Epoch 5/6\n",
            "1500/1500 [==============================] - 6s 4ms/step - loss: 0.2920 - accuracy: 0.8922 - val_loss: 0.3245 - val_accuracy: 0.8842\n",
            "Epoch 6/6\n",
            "1500/1500 [==============================] - 6s 4ms/step - loss: 0.2781 - accuracy: 0.8951 - val_loss: 0.3342 - val_accuracy: 0.8824\n"
          ],
          "name": "stdout"
        }
      ]
    },
    {
      "cell_type": "markdown",
      "metadata": {
        "id": "c34zhdO4FWHA"
      },
      "source": [
        "Salvando e carregando o modelo treinado"
      ]
    },
    {
      "cell_type": "code",
      "metadata": {
        "id": "KXqqffgxDeYo"
      },
      "source": [
        "modelo.save('modelo.h5')\n",
        "modelo_salvo = load_model('modelo.h5')"
      ],
      "execution_count": 8,
      "outputs": []
    },
    {
      "cell_type": "markdown",
      "metadata": {
        "id": "Son6SYNeFYWX"
      },
      "source": [
        "Visualizando as acurácia de treino e validação por época"
      ]
    },
    {
      "cell_type": "code",
      "metadata": {
        "id": "I90sDupI_xt3",
        "colab": {
          "base_uri": "https://localhost:8080/",
          "height": 313
        },
        "outputId": "2ffc863d-2084-4262-fe6c-e02cd31df747"
      },
      "source": [
        "#historico.history\n",
        "plt.plot(historico.history['accuracy'])\n",
        "plt.plot(historico.history['val_accuracy'])\n",
        "plt.title('Acurácia por épocas')\n",
        "plt.xlabel('épocas')\n",
        "plt.ylabel('acurácia')\n",
        "plt.legend(['treino', 'validação'])"
      ],
      "execution_count": 9,
      "outputs": [
        {
          "output_type": "execute_result",
          "data": {
            "text/plain": [
              "<matplotlib.legend.Legend at 0x7f08746cf810>"
            ]
          },
          "metadata": {
            "tags": []
          },
          "execution_count": 9
        },
        {
          "output_type": "display_data",
          "data": {
            "image/png": "[encoded data removed]",
            "text/plain": [
              "<Figure size 432x288 with 1 Axes>"
            ]
          },
          "metadata": {
            "tags": [],
            "needs_background": "light"
          }
        }
      ]
    },
    {
      "cell_type": "markdown",
      "metadata": {
        "id": "saCg6EobFfnt"
      },
      "source": [
        "Visualizando as perdas de treino e validação por época."
      ]
    },
    {
      "cell_type": "code",
      "metadata": {
        "id": "GxckP29jAgWx",
        "colab": {
          "base_uri": "https://localhost:8080/",
          "height": 313
        },
        "outputId": "f4cb6b5b-9ca7-40d1-f613-3163ef4e026f"
      },
      "source": [
        "plt.plot(historico.history['loss'])\n",
        "plt.plot(historico.history['val_loss'])\n",
        "plt.title('Perda por épocas')\n",
        "plt.xlabel('épocas')\n",
        "plt.ylabel('perda')\n",
        "plt.legend(['treino', 'validação'])"
      ],
      "execution_count": 10,
      "outputs": [
        {
          "output_type": "execute_result",
          "data": {
            "text/plain": [
              "<matplotlib.legend.Legend at 0x7f0874620f50>"
            ]
          },
          "metadata": {
            "tags": []
          },
          "execution_count": 10
        },
        {
          "output_type": "display_data",
          "data": {
            "image/png": "[encoded data removed]",
            "text/plain": [
              "<Figure size 432x288 with 1 Axes>"
            ]
          },
          "metadata": {
            "tags": [],
            "needs_background": "light"
          }
        }
      ]
    },
    {
      "cell_type": "markdown",
      "metadata": {
        "id": "zyZWgh8CFjg9"
      },
      "source": [
        "Testando o modelo e o modelo salvo"
      ]
    },
    {
      "cell_type": "code",
      "metadata": {
        "id": "Msnt8jPC-AYh"
      },
      "source": [
        "testes = modelo.predict(imagens_teste)\n",
        "print('resultado teste: ', np.argmax(testes[1]))\n",
        "print('número da imagem de teste:', identificacoes_teste[1])\n",
        "\n",
        "testes_modelo_salvo = modelo_salvo.predict(imagens_teste)\n",
        "print('resultado teste modelo salvo: ', np.argmax(testes_modelo_salvo[1]))\n",
        "print('número da imagem de teste:', identificacoes_teste[1])"
      ],
      "execution_count": null,
      "outputs": []
    },
    {
      "cell_type": "markdown",
      "metadata": {
        "id": "uVLzeTqZFnT5"
      },
      "source": [
        "Avaliando o modelo"
      ]
    },
    {
      "cell_type": "code",
      "metadata": {
        "id": "xd9m-1dm-0jq",
        "colab": {
          "base_uri": "https://localhost:8080/"
        },
        "outputId": "5d0feaca-d653-4d0e-bc41-683726f45013"
      },
      "source": [
        "perda_teste, acuracia_teste = modelo.evaluate(imagens_teste, identificacoes_teste)\n",
        "print('Perda do teste', perda_teste)\n",
        "print('Acurácia do teste', acuracia_teste)"
      ],
      "execution_count": 11,
      "outputs": [
        {
          "output_type": "stream",
          "text": [
            "313/313 [==============================] - 1s 3ms/step - loss: 0.3675 - accuracy: 0.8706\n",
            "Perda do teste 0.36748427152633667\n",
            "Acurácia do teste 0.8705999851226807\n"
          ],
          "name": "stdout"
        }
      ]
    }
  ]
}